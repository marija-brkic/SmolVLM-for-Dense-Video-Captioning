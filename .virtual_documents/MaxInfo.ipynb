import numpy as np
from sklearn.decomposition import TruncatedSVD
from transformers import CLIPProcessor, CLIPModel
from PIL import Image
import torch
import cv2

device = 'cuda' if torch.cuda.is_available() else 'cpu'
clip_model = CLIPModel.from_pretrained("openai/clip-vit-base-patch32").to(device)
clip_processor = CLIPProcessor.from_pretrained("openai/clip-vit-base-patch32")

def extract_frames(video_path, stride=5, resize=(224, 224)):
    cap = cv2.VideoCapture(video_path)
    frames, indices = [], []
    i = 0
    while cap.isOpened():
        ret, frame = cap.read()
        if not ret:
            break
        if i % stride == 0:
            frame_rgb = cv2.cvtColor(frame, cv2.COLOR_BGR2RGB)
            frame_resized = cv2.resize(frame_rgb, resize)
            frames.append(Image.fromarray(frame_resized))
            indices.append(i)
        i += 1
    cap.release()
    return frames, indices

def get_clip_embeddings(frames, batch_size=16):
    embeddings = []
    with torch.no_grad():
        for i in range(0, len(frames), batch_size):
            batch = frames[i:i+batch_size]
            inputs = clip_processor(images=batch, return_tensors="pt", padding=True).to(device)
            outputs = clip_model.get_image_features(**inputs)
            outputs = outputs / outputs.norm(dim=-1, keepdim=True)
            embeddings.append(outputs.cpu().numpy())
    return np.vstack(embeddings)

def select_keyframes_svd_energy(Q, k=10):
    svd = TruncatedSVD(n_components=min(k, Q.shape[1]))
    Qs = svd.fit_transform(Q)  # shape (num_frames, k)
    norms = np.linalg.norm(Qs, axis=1)
    top_k_indices = np.argsort(norms)[-k:][::-1]  # top-k rows with highest energy
    return sorted(top_k_indices)  # sort chronologically if desired

def select_keyframes(video_path, stride=5, svd_components=10):
    print("[INFO] Extracting frames...")
    frames, indices = extract_frames(video_path, stride=stride)
    print(f"[INFO] {len(frames)} frames extracted.")

    print("[INFO] Embedding frames with CLIP...")
    Q = get_clip_embeddings(frames)

    print("[INFO] Reducing dimensionality and selecting important frames...")
    selected_local_indices = select_keyframes_svd_energy(Q, k=min(svd_components, len(frames)))
    selected_frame_indices = [indices[i] for i in selected_local_indices]

    print(f"[INFO] Selected keyframe indices: {selected_frame_indices}")
    return selected_frame_indices




