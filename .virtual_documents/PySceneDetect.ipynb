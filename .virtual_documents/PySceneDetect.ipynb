from scenedetect import detect, ContentDetector, split_video_ffmpeg
import time

video_path = "Videos\\fragrance_on_the_trail_of_coco_mademoiselle_mp4.mp4"





start_time = time.time()

scene_list = detect(video_path, ContentDetector())
split_video_ffmpeg(video_path, scene_list, output_dir="Videos\\ContentDetector", show_progress=True)#they had an error here

end_time = time.time()
execution_time = end_time - start_time
print(f"Execution time: {execution_time:.4f} seconds")


print(scene_list)





start_time = time.time()

scene_list = detect(video_path, ContentDetector(threshold = 50.0))
split_video_ffmpeg(video_path, scene_list, output_dir="Videos\\ContentDetector", show_progress=True)#they had an error here

end_time = time.time()
execution_time = end_time - start_time
print(f"Execution time: {execution_time:.4f} seconds")


print(scene_list)





start_time = time.time()

scene_list = detect(video_path, ContentDetector(threshold = 10.0))
split_video_ffmpeg(video_path, scene_list, output_dir="Videos\\ContentDetector", show_progress=True)#they had an error here

end_time = time.time()
execution_time = end_time - start_time
print(f"Execution time: {execution_time:.4f} seconds")


print(scene_list)








from scenedetect import ThresholdDetector
start_time = time.time()

scene_list = detect(video_path, ThresholdDetector(threshold = 15))
split_video_ffmpeg(video_path, scene_list, output_dir="Videos\\ThresholdDetector", show_progress=True)#they had an error here

end_time = time.time()
execution_time = end_time - start_time
print(f"Execution time: {execution_time:.4f} seconds")


print(scene_list)








from scenedetect import AdaptiveDetector
start_time = time.time()

scene_list = detect(video_path, AdaptiveDetector())
split_video_ffmpeg(video_path, scene_list, output_dir="Videos\\AdaptiveDetector", show_progress=True)#they had an error here

end_time = time.time()
execution_time = end_time - start_time
print(f"Execution time: {execution_time:.4f} seconds")


print(scene_list)








from scenedetect import HistogramDetector
start_time = time.time()

scene_list = detect(video_path, HistogramDetector())
split_video_ffmpeg(video_path, scene_list, output_dir="Videos\\HistogramDetector", show_progress=True)#they had an error here

end_time = time.time()
execution_time = end_time - start_time
print(f"Execution time: {execution_time:.4f} seconds")


print(scene_list)








from scenedetect import HashDetector
start_time = time.time()

scene_list = detect(video_path, HashDetector())
split_video_ffmpeg(video_path, scene_list, output_dir="Videos\\HashDetector", show_progress=True)#they had an error here

end_time = time.time()
execution_time = end_time - start_time
print(f"Execution time: {execution_time:.4f} seconds")


print(scene_list)





import numpy as np

frame_ind = np.array([scene[0].get_frames() for scene in scene_list])
frame_ind #GOSPODJA


import cv2
from scenedetect import open_video, SceneManager
from scenedetect.scene_manager import SceneManager
from scenedetect.frame_timecode import FrameTimecode


video_path = "Videos\\fragrance_on_the_trail_of_coco_mademoiselle_mp4.mp4"
cap = cv2.VideoCapture(video_path)

#extracts frames per second from a video
fps = cap.get(cv2.CAP_PROP_FPS)
#extracts dimensions of a video
width  = int(cap.get(cv2.CAP_PROP_FRAME_WIDTH))
height = int(cap.get(cv2.CAP_PROP_FRAME_HEIGHT))

#makes a new video with the same features as the previous one
out = cv2.VideoWriter('Videos\\summary_video.mp4', cv2.VideoWriter_fourcc(*'mp4v'), fps, (width, height))


for start_timecode, _ in scene_list:
    frame_num = start_timecode.get_frames() #index of the first frame
    cap.set(cv2.CAP_PROP_POS_FRAMES, frame_num) #finds the specific frame in the original video
    success, frame = cap.read() #reads the specific frame
    if success:
        out.write(frame) #if the frame is sucessfully read, it is written in the output video

#closes files
cap.release()
out.release()

print("✅ Summary video created: summary_video.mp4")
