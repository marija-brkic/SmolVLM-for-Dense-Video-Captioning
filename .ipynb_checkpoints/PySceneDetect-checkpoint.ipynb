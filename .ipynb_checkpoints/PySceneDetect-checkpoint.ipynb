{
 "cells": [
  {
   "cell_type": "code",
   "execution_count": 1,
   "id": "325f69b6-ad3a-43d6-af0f-d1440515c2b1",
   "metadata": {},
   "outputs": [],
   "source": [
    "from scenedetect import detect, ContentDetector, split_video_ffmpeg\n",
    "import time\n",
    "\n",
    "video_path = \"Videos\\\\fragrance_on_the_trail_of_coco_mademoiselle_mp4.mp4\""
   ]
  },
  {
   "cell_type": "markdown",
   "id": "7f4b308d-da7c-4c09-b293-8850a6e296ff",
   "metadata": {},
   "source": [
    "# ContentDetector: uses weighted average of HSV changes"
   ]
  },
  {
   "cell_type": "code",
   "execution_count": 24,
   "id": "191ff1cc-7c29-4700-9221-851f0283a760",
   "metadata": {},
   "outputs": [
    {
     "name": "stderr",
     "output_type": "stream",
     "text": [
      "100%|██████████| 375/375 [00:01<00:00, 255.10frame/s]"
     ]
    },
    {
     "name": "stdout",
     "output_type": "stream",
     "text": [
      "Execution time: 2.4880 seconds\n"
     ]
    },
    {
     "name": "stderr",
     "output_type": "stream",
     "text": [
      "\n"
     ]
    }
   ],
   "source": [
    "start_time = time.time()\n",
    "\n",
    "scene_list = detect(video_path, ContentDetector())\n",
    "split_video_ffmpeg(video_path, scene_list, output_dir=\"Videos\\\\ContentDetector\", show_progress=True)#they had an error here\n",
    "\n",
    "end_time = time.time()\n",
    "execution_time = end_time - start_time\n",
    "print(f\"Execution time: {execution_time:.4f} seconds\")"
   ]
  },
  {
   "cell_type": "code",
   "execution_count": 6,
   "id": "4da763a5-c8f7-4d8f-9132-bd6f73bb6cf5",
   "metadata": {},
   "outputs": [
    {
     "name": "stdout",
     "output_type": "stream",
     "text": [
      "[(00:00:00.000 [frame=0, fps=25.000], 00:00:01.640 [frame=41, fps=25.000]), (00:00:01.640 [frame=41, fps=25.000], 00:00:02.360 [frame=59, fps=25.000]), (00:00:02.360 [frame=59, fps=25.000], 00:00:06.320 [frame=158, fps=25.000]), (00:00:06.320 [frame=158, fps=25.000], 00:00:07.320 [frame=183, fps=25.000]), (00:00:07.320 [frame=183, fps=25.000], 00:00:08.240 [frame=206, fps=25.000]), (00:00:08.240 [frame=206, fps=25.000], 00:00:10.280 [frame=257, fps=25.000]), (00:00:10.280 [frame=257, fps=25.000], 00:00:12.000 [frame=300, fps=25.000]), (00:00:12.000 [frame=300, fps=25.000], 00:00:15.000 [frame=375, fps=25.000])]\n"
     ]
    }
   ],
   "source": [
    "print(scene_list)"
   ]
  },
  {
   "cell_type": "markdown",
   "id": "1a3b4ff5-ceab-4167-93a3-57b79936b6bf",
   "metadata": {},
   "source": [
    "Higher Threshold:"
   ]
  },
  {
   "cell_type": "code",
   "execution_count": 14,
   "id": "9a58e5c9-c158-44f7-bd97-260b8d3010b2",
   "metadata": {},
   "outputs": [
    {
     "name": "stderr",
     "output_type": "stream",
     "text": [
      "100%|██████████| 375/375 [00:01<00:00, 371.80frame/s]"
     ]
    },
    {
     "name": "stdout",
     "output_type": "stream",
     "text": [
      "Execution time: 1.5573 seconds\n"
     ]
    },
    {
     "name": "stderr",
     "output_type": "stream",
     "text": [
      "\n"
     ]
    }
   ],
   "source": [
    "start_time = time.time()\n",
    "\n",
    "scene_list = detect(video_path, ContentDetector(threshold = 50.0))\n",
    "split_video_ffmpeg(video_path, scene_list, output_dir=\"Videos\\\\ContentDetector\", show_progress=True)#they had an error here\n",
    "\n",
    "end_time = time.time()\n",
    "execution_time = end_time - start_time\n",
    "print(f\"Execution time: {execution_time:.4f} seconds\")"
   ]
  },
  {
   "cell_type": "code",
   "execution_count": 16,
   "id": "b5278fa6-19d0-4881-950d-406e8028dce1",
   "metadata": {},
   "outputs": [
    {
     "name": "stdout",
     "output_type": "stream",
     "text": [
      "[(00:00:00.000 [frame=0, fps=25.000], 00:00:01.640 [frame=41, fps=25.000]), (00:00:01.640 [frame=41, fps=25.000], 00:00:12.000 [frame=300, fps=25.000]), (00:00:12.000 [frame=300, fps=25.000], 00:00:15.000 [frame=375, fps=25.000])]\n"
     ]
    }
   ],
   "source": [
    "print(scene_list)"
   ]
  },
  {
   "cell_type": "markdown",
   "id": "cc559dcd-48fa-4796-aafd-81cf49bd5140",
   "metadata": {},
   "source": [
    "Lower Threshold:"
   ]
  },
  {
   "cell_type": "code",
   "execution_count": 56,
   "id": "06ff9250-58cf-4054-b185-447b8384aca2",
   "metadata": {},
   "outputs": [
    {
     "name": "stderr",
     "output_type": "stream",
     "text": [
      "100%|██████████| 375/375 [00:01<00:00, 229.12frame/s]"
     ]
    },
    {
     "name": "stdout",
     "output_type": "stream",
     "text": [
      "Execution time: 2.9908 seconds\n"
     ]
    },
    {
     "name": "stderr",
     "output_type": "stream",
     "text": [
      "\n"
     ]
    }
   ],
   "source": [
    "start_time = time.time()\n",
    "\n",
    "scene_list = detect(video_path, ContentDetector(threshold = 10.0))\n",
    "split_video_ffmpeg(video_path, scene_list, output_dir=\"Videos\\\\ContentDetector\", show_progress=True)#they had an error here\n",
    "\n",
    "end_time = time.time()\n",
    "execution_time = end_time - start_time\n",
    "print(f\"Execution time: {execution_time:.4f} seconds\")"
   ]
  },
  {
   "cell_type": "code",
   "execution_count": 58,
   "id": "268d273a-c4fa-4b91-9459-6523d4902b7b",
   "metadata": {},
   "outputs": [
    {
     "name": "stdout",
     "output_type": "stream",
     "text": [
      "[(00:00:00.000 [frame=0, fps=25.000], 00:00:01.640 [frame=41, fps=25.000]), (00:00:01.640 [frame=41, fps=25.000], 00:00:02.360 [frame=59, fps=25.000]), (00:00:02.360 [frame=59, fps=25.000], 00:00:04.120 [frame=103, fps=25.000]), (00:00:04.120 [frame=103, fps=25.000], 00:00:06.320 [frame=158, fps=25.000]), (00:00:06.320 [frame=158, fps=25.000], 00:00:07.120 [frame=178, fps=25.000]), (00:00:07.120 [frame=178, fps=25.000], 00:00:08.240 [frame=206, fps=25.000]), (00:00:08.240 [frame=206, fps=25.000], 00:00:09.960 [frame=249, fps=25.000]), (00:00:09.960 [frame=249, fps=25.000], 00:00:12.000 [frame=300, fps=25.000]), (00:00:12.000 [frame=300, fps=25.000], 00:00:15.000 [frame=375, fps=25.000])]\n"
     ]
    }
   ],
   "source": [
    "print(scene_list)"
   ]
  },
  {
   "cell_type": "markdown",
   "id": "955dc66e-c67c-491b-b3c8-7a1999eb8102",
   "metadata": {},
   "source": [
    "Now it is doing a perfect plit."
   ]
  },
  {
   "cell_type": "markdown",
   "id": "7a120d7d-4a2d-4481-a23c-9e9d75b87723",
   "metadata": {},
   "source": [
    "# ThresholdDetector: averages RGB -> I don't like that"
   ]
  },
  {
   "cell_type": "code",
   "execution_count": 97,
   "id": "feeb0ecf-75f9-4ce0-b919-127d33d7c19a",
   "metadata": {},
   "outputs": [
    {
     "name": "stderr",
     "output_type": "stream",
     "text": [
      "100%|██████████| 375/375 [00:00<00:00, 474.36frame/s]"
     ]
    },
    {
     "name": "stdout",
     "output_type": "stream",
     "text": [
      "Execution time: 1.3263 seconds\n"
     ]
    },
    {
     "name": "stderr",
     "output_type": "stream",
     "text": [
      "\n"
     ]
    }
   ],
   "source": [
    "from scenedetect import ThresholdDetector\n",
    "start_time = time.time()\n",
    "\n",
    "scene_list = detect(video_path, ThresholdDetector(threshold = 15))\n",
    "split_video_ffmpeg(video_path, scene_list, output_dir=\"Videos\\\\ThresholdDetector\", show_progress=True)#they had an error here\n",
    "\n",
    "end_time = time.time()\n",
    "execution_time = end_time - start_time\n",
    "print(f\"Execution time: {execution_time:.4f} seconds\")"
   ]
  },
  {
   "cell_type": "code",
   "execution_count": 99,
   "id": "6f70a2ab-6914-4dad-ba98-a4b8fa909a09",
   "metadata": {},
   "outputs": [
    {
     "name": "stdout",
     "output_type": "stream",
     "text": [
      "[(00:00:00.000 [frame=0, fps=25.000], 00:00:08.360 [frame=209, fps=25.000]), (00:00:08.360 [frame=209, fps=25.000], 00:00:15.000 [frame=375, fps=25.000])]\n"
     ]
    }
   ],
   "source": [
    "print(scene_list)"
   ]
  },
  {
   "cell_type": "markdown",
   "id": "9ecb6f14-f460-46b7-b5b4-3bd46861a12c",
   "metadata": {},
   "source": [
    "It does not work very well. The default threshold does not work at all and it needs to be higher which is unexpected. I assume it is because of the set minimum lenght in frames of one shot, and if the threshold is too low it is extracting way too short shots. But I also can not seem to find the right threshold."
   ]
  },
  {
   "cell_type": "markdown",
   "id": "75c792a4-9518-44d4-b314-4f126e26fd77",
   "metadata": {},
   "source": [
    "# AdaptiveDetector: rolling average changes in HSL"
   ]
  },
  {
   "cell_type": "code",
   "execution_count": 37,
   "id": "d1c25741-02d3-44e9-813b-4402df98dda8",
   "metadata": {},
   "outputs": [
    {
     "name": "stderr",
     "output_type": "stream",
     "text": [
      "100%|██████████| 375/375 [00:01<00:00, 237.41frame/s]"
     ]
    },
    {
     "name": "stdout",
     "output_type": "stream",
     "text": [
      "Execution time: 2.1093 seconds\n"
     ]
    },
    {
     "name": "stderr",
     "output_type": "stream",
     "text": [
      "\n"
     ]
    }
   ],
   "source": [
    "from scenedetect import AdaptiveDetector\n",
    "start_time = time.time()\n",
    "\n",
    "scene_list = detect(video_path, AdaptiveDetector())\n",
    "split_video_ffmpeg(video_path, scene_list, output_dir=\"Videos\\\\AdaptiveDetector\", show_progress=True)#they had an error here\n",
    "\n",
    "end_time = time.time()\n",
    "execution_time = end_time - start_time\n",
    "print(f\"Execution time: {execution_time:.4f} seconds\")"
   ]
  },
  {
   "cell_type": "code",
   "execution_count": 39,
   "id": "00e60602-6768-4e3a-bde4-272c392b91ca",
   "metadata": {},
   "outputs": [
    {
     "name": "stdout",
     "output_type": "stream",
     "text": [
      "[(00:00:00.000 [frame=0, fps=25.000], 00:00:01.640 [frame=41, fps=25.000]), (00:00:01.640 [frame=41, fps=25.000], 00:00:02.360 [frame=59, fps=25.000]), (00:00:02.360 [frame=59, fps=25.000], 00:00:04.120 [frame=103, fps=25.000]), (00:00:04.120 [frame=103, fps=25.000], 00:00:06.320 [frame=158, fps=25.000]), (00:00:06.320 [frame=158, fps=25.000], 00:00:07.320 [frame=183, fps=25.000]), (00:00:07.320 [frame=183, fps=25.000], 00:00:08.240 [frame=206, fps=25.000]), (00:00:08.240 [frame=206, fps=25.000], 00:00:10.280 [frame=257, fps=25.000]), (00:00:10.280 [frame=257, fps=25.000], 00:00:12.000 [frame=300, fps=25.000]), (00:00:12.000 [frame=300, fps=25.000], 00:00:15.000 [frame=375, fps=25.000])]\n"
     ]
    }
   ],
   "source": [
    "print(scene_list)"
   ]
  },
  {
   "cell_type": "markdown",
   "id": "f0f2b2ab-df5e-40e0-b801-ee8a7171736d",
   "metadata": {},
   "source": [
    "This approach split every scene correctly, but it should work prettu much the same as previous one. But it is averaging, in that case i would exect it to work even worse."
   ]
  },
  {
   "cell_type": "markdown",
   "id": "57d19b64-a9cd-486d-ac29-114d14e04acc",
   "metadata": {},
   "source": [
    "# HistogramDetector: histogram changes of HSV and correlation"
   ]
  },
  {
   "cell_type": "code",
   "execution_count": 48,
   "id": "09f42cf2-6e22-4b99-911a-793555325099",
   "metadata": {},
   "outputs": [
    {
     "name": "stderr",
     "output_type": "stream",
     "text": [
      "100%|██████████| 375/375 [00:01<00:00, 227.84frame/s]"
     ]
    },
    {
     "name": "stdout",
     "output_type": "stream",
     "text": [
      "Execution time: 2.1806 seconds\n"
     ]
    },
    {
     "name": "stderr",
     "output_type": "stream",
     "text": [
      "\n"
     ]
    }
   ],
   "source": [
    "from scenedetect import HistogramDetector\n",
    "start_time = time.time()\n",
    "\n",
    "scene_list = detect(video_path, HistogramDetector())\n",
    "split_video_ffmpeg(video_path, scene_list, output_dir=\"Videos\\\\HistogramDetector\", show_progress=True)#they had an error here\n",
    "\n",
    "end_time = time.time()\n",
    "execution_time = end_time - start_time\n",
    "print(f\"Execution time: {execution_time:.4f} seconds\")"
   ]
  },
  {
   "cell_type": "code",
   "execution_count": 50,
   "id": "96aa49d2-7a79-44e4-8831-d79a475030f0",
   "metadata": {},
   "outputs": [
    {
     "name": "stdout",
     "output_type": "stream",
     "text": [
      "[(00:00:00.000 [frame=0, fps=25.000], 00:00:01.640 [frame=41, fps=25.000]), (00:00:01.640 [frame=41, fps=25.000], 00:00:02.360 [frame=59, fps=25.000]), (00:00:02.360 [frame=59, fps=25.000], 00:00:04.120 [frame=103, fps=25.000]), (00:00:04.120 [frame=103, fps=25.000], 00:00:06.320 [frame=158, fps=25.000]), (00:00:06.320 [frame=158, fps=25.000], 00:00:07.320 [frame=183, fps=25.000]), (00:00:07.320 [frame=183, fps=25.000], 00:00:08.240 [frame=206, fps=25.000]), (00:00:08.240 [frame=206, fps=25.000], 00:00:09.960 [frame=249, fps=25.000]), (00:00:09.960 [frame=249, fps=25.000], 00:00:12.000 [frame=300, fps=25.000]), (00:00:12.000 [frame=300, fps=25.000], 00:00:15.000 [frame=375, fps=25.000])]\n"
     ]
    }
   ],
   "source": [
    "print(scene_list)"
   ]
  },
  {
   "cell_type": "markdown",
   "id": "185f41c1-5665-42da-8844-d12f8df681be",
   "metadata": {},
   "source": [
    "Gives the same split as AdaptiveDecoder but this would be expected."
   ]
  },
  {
   "cell_type": "markdown",
   "id": "931edb83-dc31-4576-b795-792940a2eb92",
   "metadata": {},
   "source": [
    "# HashDetector: hashing difference"
   ]
  },
  {
   "cell_type": "code",
   "execution_count": 3,
   "id": "6acbe12b-55a2-409b-9282-9fea8d0b276e",
   "metadata": {},
   "outputs": [
    {
     "name": "stderr",
     "output_type": "stream",
     "text": [
      "100%|██████████| 375/375 [00:01<00:00, 227.73frame/s]"
     ]
    },
    {
     "name": "stdout",
     "output_type": "stream",
     "text": [
      "Execution time: 2.2112 seconds\n"
     ]
    },
    {
     "name": "stderr",
     "output_type": "stream",
     "text": [
      "\n"
     ]
    }
   ],
   "source": [
    "from scenedetect import HashDetector\n",
    "start_time = time.time()\n",
    "\n",
    "scene_list = detect(video_path, HashDetector())\n",
    "split_video_ffmpeg(video_path, scene_list, output_dir=\"Videos\\\\HashDetector\", show_progress=True)#they had an error here\n",
    "\n",
    "end_time = time.time()\n",
    "execution_time = end_time - start_time\n",
    "print(f\"Execution time: {execution_time:.4f} seconds\")"
   ]
  },
  {
   "cell_type": "code",
   "execution_count": 5,
   "id": "2ff781f6-54de-4333-b628-4de1239b8efc",
   "metadata": {},
   "outputs": [
    {
     "name": "stdout",
     "output_type": "stream",
     "text": [
      "[(00:00:00.000 [frame=0, fps=25.000], 00:00:01.640 [frame=41, fps=25.000]), (00:00:01.640 [frame=41, fps=25.000], 00:00:02.360 [frame=59, fps=25.000]), (00:00:02.360 [frame=59, fps=25.000], 00:00:04.120 [frame=103, fps=25.000]), (00:00:04.120 [frame=103, fps=25.000], 00:00:06.320 [frame=158, fps=25.000]), (00:00:06.320 [frame=158, fps=25.000], 00:00:07.320 [frame=183, fps=25.000]), (00:00:07.320 [frame=183, fps=25.000], 00:00:08.240 [frame=206, fps=25.000]), (00:00:08.240 [frame=206, fps=25.000], 00:00:10.280 [frame=257, fps=25.000]), (00:00:10.280 [frame=257, fps=25.000], 00:00:12.000 [frame=300, fps=25.000]), (00:00:12.000 [frame=300, fps=25.000], 00:00:15.000 [frame=375, fps=25.000])]\n"
     ]
    }
   ],
   "source": [
    "print(scene_list)"
   ]
  },
  {
   "cell_type": "markdown",
   "id": "7f1d4fe8-ac6c-4fd6-a58c-ace3513d8d35",
   "metadata": {},
   "source": [
    "Same as all others."
   ]
  },
  {
   "cell_type": "code",
   "execution_count": 7,
   "id": "22c78b26-220d-453d-a9b6-4e00791adc5d",
   "metadata": {},
   "outputs": [
    {
     "data": {
      "text/plain": [
       "array([  0,  41,  59, 103, 158, 183, 206, 257, 300])"
      ]
     },
     "execution_count": 7,
     "metadata": {},
     "output_type": "execute_result"
    }
   ],
   "source": [
    "import numpy as np\n",
    "\n",
    "frame_ind = np.array([scene[0].get_frames() for scene in scene_list])\n",
    "frame_ind #GOSPODJA"
   ]
  },
  {
   "cell_type": "code",
   "execution_count": 11,
   "id": "1fc14b0a-643d-4ad6-aab4-a822362f7f20",
   "metadata": {},
   "outputs": [],
   "source": [
    "import cv2\n",
    "from scenedetect import open_video, SceneManager\n",
    "from scenedetect.scene_manager import SceneManager\n",
    "from scenedetect.frame_timecode import FrameTimecode"
   ]
  },
  {
   "cell_type": "code",
   "execution_count": 13,
   "id": "fa4fb3b8-8ff3-4da8-979b-59b07aaab44f",
   "metadata": {},
   "outputs": [
    {
     "name": "stdout",
     "output_type": "stream",
     "text": [
      "✅ Summary video created: summary_video.mp4\n"
     ]
    }
   ],
   "source": [
    "video_path = \"Videos\\\\fragrance_on_the_trail_of_coco_mademoiselle_mp4.mp4\"\n",
    "cap = cv2.VideoCapture(video_path)\n",
    "\n",
    "#extracts frames per second from a video\n",
    "fps = cap.get(cv2.CAP_PROP_FPS)\n",
    "#extracts dimensions of a video\n",
    "width  = int(cap.get(cv2.CAP_PROP_FRAME_WIDTH))\n",
    "height = int(cap.get(cv2.CAP_PROP_FRAME_HEIGHT))\n",
    "\n",
    "#makes a new video with the same features as the previous one\n",
    "out = cv2.VideoWriter('Videos\\\\summary_video.mp4', cv2.VideoWriter_fourcc(*'mp4v'), fps, (width, height))\n",
    "\n",
    "\n",
    "for start_timecode, _ in scene_list:\n",
    "    frame_num = start_timecode.get_frames() #index of the first frame\n",
    "    cap.set(cv2.CAP_PROP_POS_FRAMES, frame_num) #finds the specific frame in the original video\n",
    "    success, frame = cap.read() #reads the specific frame\n",
    "    if success:\n",
    "        out.write(frame) #if the frame is sucessfully read, it is written in the output video\n",
    "\n",
    "#closes files\n",
    "cap.release()\n",
    "out.release()\n",
    "\n",
    "print(\"✅ Summary video created: summary_video.mp4\")"
   ]
  }
 ],
 "metadata": {
  "kernelspec": {
   "display_name": "Python 3 (ipykernel)",
   "language": "python",
   "name": "python3"
  },
  "language_info": {
   "codemirror_mode": {
    "name": "ipython",
    "version": 3
   },
   "file_extension": ".py",
   "mimetype": "text/x-python",
   "name": "python",
   "nbconvert_exporter": "python",
   "pygments_lexer": "ipython3",
   "version": "3.12.7"
  }
 },
 "nbformat": 4,
 "nbformat_minor": 5
}
